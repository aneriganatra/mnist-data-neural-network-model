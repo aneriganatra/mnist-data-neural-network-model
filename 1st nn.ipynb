{
 "cells": [
  {
   "cell_type": "code",
   "execution_count": 94,
   "id": "32e6d8cd",
   "metadata": {},
   "outputs": [],
   "source": [
    "class neuralNetwork:\n",
    "    \n",
    "    def __init__(self, inputnodes,hiddennodes,outputnodes,learningrate):\n",
    "        self.inodes=inputnodes\n",
    "        self.hnodes=hiddennodes\n",
    "        self.onodes=outputnodes\n",
    "        self.lr=learningrate\n",
    "        \n",
    "    \n",
    "    \n",
    "\n",
    "\n",
    "        import numpy\n",
    "\n",
    "        self.wih = numpy.random.normal(0.0, pow(self.hnodes, -0.5), (self.hnodes, self.inodes))\n",
    "        self.who = numpy.random.normal(0.0, pow(self.onodes,-0.5), (self.onodes, self.hnodes))\n",
    "\n",
    "        import scipy.special\n",
    "        self.activation_function=lambda x:scipy.special.expit(x)\n",
    "        pass\n",
    "\n",
    "    def train(self,inputs_list,targets_list):\n",
    "        inputs=numpy.array(inputs_list,ndmin=2).T\n",
    "        targets=numpy.array(targets_list,ndmin=2).T\n",
    "        hidden_inputs=numpy.dot(self.wih,inputs)\n",
    "        hidden_outputs=self.activation_function(hidden_inputs)\n",
    "        final_inputs=numpy.dot(self.who,hidden_outputs)\n",
    "        final_outputs=self.activation_function(final_inputs)\n",
    "        output_errors=targets-final_outputs\n",
    "        hidden_errors = numpy.dot(self.who.T, output_errors)\n",
    "        self.who += self.lr * numpy.dot((output_errors * final_outputs * (1.0 - final_outputs)),numpy.transpose(hidden_outputs))\n",
    "        self.wih += self.lr * numpy.dot((hidden_errors * hidden_outputs * (1.0 - hidden_outputs)), numpy.transpose(inputs))\n",
    "        pass\n",
    "    \n",
    "    def query(self, inputs_list):\n",
    "        inputs = numpy.array(inputs_list, ndmin=2).T\n",
    "        hidden_inputs = numpy.dot(self.wih, inputs)\n",
    "        hidden_outputs = self.activation_function(hidden_inputs)\n",
    "        final_inputs = numpy.dot(self.who,hidden_outputs)\n",
    "        final_outputs = self.activation_function(final_inputs)\n",
    "        return final_outputs\n",
    "        \n"
   ]
  },
  {
   "cell_type": "code",
   "execution_count": 95,
   "id": "a4781b24",
   "metadata": {},
   "outputs": [],
   "source": [
    "input_nodes=784\n",
    "hidden_nodes=100\n",
    "output_nodes=10\n",
    "learning_rate=0.3\n",
    "\n",
    "n=neuralNetwork(input_nodes,hidden_nodes,output_nodes,learning_rate)"
   ]
  },
  {
   "cell_type": "code",
   "execution_count": null,
   "id": "6f64d0a0",
   "metadata": {},
   "outputs": [],
   "source": []
  },
  {
   "cell_type": "code",
   "execution_count": 96,
   "id": "b03bec38",
   "metadata": {},
   "outputs": [],
   "source": [
    "training_data_file = open(\"mnist_train_100.csv\",'r') \n",
    "training_data_list = training_data_file.readlines()\n",
    "training_data_file.close()"
   ]
  },
  {
   "cell_type": "code",
   "execution_count": 97,
   "id": "33408311",
   "metadata": {},
   "outputs": [],
   "source": [
    "import numpy\n",
    "import matplotlib.pyplot\n",
    "%matplotlib inline\n",
    "import scipy.special"
   ]
  },
  {
   "cell_type": "code",
   "execution_count": null,
   "id": "576fbaae",
   "metadata": {},
   "outputs": [],
   "source": []
  },
  {
   "cell_type": "code",
   "execution_count": 98,
   "id": "881b1355",
   "metadata": {},
   "outputs": [],
   "source": [
    "for record in training_data_list: # split the record by the ',' commas \n",
    "    all_values = record.split(',') # scale and shift the inputs \n",
    "    inputs = (numpy.asfarray(all_values[1:]) / 255.0 * 0.99) + 0.01 \n",
    "    # create the target output values (all 0.01, except the desiredlabel which is 0.99)\n",
    "    targets = numpy.zeros(output_nodes) + 0.01\n",
    "    targets[int(all_values[0])] = 0.99 \n",
    "    n.train(inputs, targets)\n",
    "    pass"
   ]
  },
  {
   "cell_type": "code",
   "execution_count": 99,
   "id": "b5f3d683",
   "metadata": {},
   "outputs": [],
   "source": [
    "test_data_file=open(\"mnist_test_10.csv\",'r')\n",
    "test_data_list=test_data_file.readlines()\n",
    "test_data_file.close()"
   ]
  },
  {
   "cell_type": "code",
   "execution_count": 100,
   "id": "f52e2a80",
   "metadata": {},
   "outputs": [
    {
     "name": "stdout",
     "output_type": "stream",
     "text": [
      "7\n"
     ]
    }
   ],
   "source": [
    "all_values=test_data_list[0].split(',')\n",
    "print(all_values[0])"
   ]
  },
  {
   "cell_type": "code",
   "execution_count": 101,
   "id": "b684393b",
   "metadata": {},
   "outputs": [
    {
     "data": {
      "text/plain": [
       "<matplotlib.image.AxesImage at 0x2216f645148>"
      ]
     },
     "execution_count": 101,
     "metadata": {},
     "output_type": "execute_result"
    },
    {
     "data": {
      "image/png": "[encoded data removed]",
      "text/plain": [
       "<Figure size 432x288 with 1 Axes>"
      ]
     },
     "metadata": {
      "needs_background": "light"
     },
     "output_type": "display_data"
    }
   ],
   "source": [
    "image_array=numpy.asfarray(all_values[1:]).reshape((28,28))\n",
    "matplotlib.pyplot.imshow(image_array,cmap='Greys',interpolation='none')"
   ]
  },
  {
   "cell_type": "code",
   "execution_count": 103,
   "id": "a9e1f67b",
   "metadata": {},
   "outputs": [
    {
     "data": {
      "text/plain": [
       "array([[0.10056758],\n",
       "       [0.01977572],\n",
       "       [0.00907153],\n",
       "       [0.11401471],\n",
       "       [0.07562421],\n",
       "       [0.04158296],\n",
       "       [0.00274566],\n",
       "       [0.91754589],\n",
       "       [0.04310761],\n",
       "       [0.03155235]])"
      ]
     },
     "execution_count": 103,
     "metadata": {},
     "output_type": "execute_result"
    }
   ],
   "source": [
    "n.query((numpy.asfarray(all_values[1:])/255.0*0.99)+0.01)"
   ]
  },
  {
   "cell_type": "code",
   "execution_count": 106,
   "id": "569c7179",
   "metadata": {},
   "outputs": [
    {
     "name": "stdout",
     "output_type": "stream",
     "text": [
      "7 correct_label\n",
      "7 network's answer\n",
      "2 correct_label\n",
      "3 network's answer\n",
      "1 correct_label\n",
      "1 network's answer\n",
      "0 correct_label\n",
      "0 network's answer\n",
      "4 correct_label\n",
      "4 network's answer\n",
      "1 correct_label\n",
      "1 network's answer\n",
      "4 correct_label\n",
      "7 network's answer\n",
      "9 correct_label\n",
      "3 network's answer\n",
      "5 correct_label\n",
      "4 network's answer\n",
      "9 correct_label\n",
      "7 network's answer\n"
     ]
    }
   ],
   "source": [
    "scorecard=[]\n",
    "for record in test_data_list:\n",
    "    all_values=record.split(',')\n",
    "    correct_label=int(all_values[0])\n",
    "    print(correct_label,\"correct_label\")\n",
    "    inputs=(numpy.asfarray(all_values[1:])/255*0.99)+0.01\n",
    "    outputs=n.query(inputs)\n",
    "    label=numpy.argmax(outputs)\n",
    "    print(label,\"network's answer\")\n",
    "    if (label==correct_label):\n",
    "        scorecard.append(1)\n",
    "    else:\n",
    "        scorecard.append(0)\n",
    "        pass\n",
    "    pass\n",
    "        \n",
    "    \n",
    "    "
   ]
  },
  {
   "cell_type": "code",
   "execution_count": 108,
   "id": "6dfeff4b",
   "metadata": {},
   "outputs": [
    {
     "name": "stdout",
     "output_type": "stream",
     "text": [
      "[1, 0, 1, 1, 1, 1, 0, 0, 0, 0]\n"
     ]
    }
   ],
   "source": [
    "print(scorecard)"
   ]
  },
  {
   "cell_type": "code",
   "execution_count": 119,
   "id": "3b1ed156",
   "metadata": {},
   "outputs": [],
   "source": [
    "import imageio\n",
    "import glob"
   ]
  },
  {
   "cell_type": "raw",
   "id": "b2b4091e",
   "metadata": {},
   "source": []
  },
  {
   "cell_type": "code",
   "execution_count": 120,
   "id": "1e955f1c",
   "metadata": {},
   "outputs": [],
   "source": [
    "our_own=[]"
   ]
  },
  {
   "cell_type": "code",
   "execution_count": 127,
   "id": "e0f5d7bf",
   "metadata": {},
   "outputs": [
    {
     "name": "stdout",
     "output_type": "stream",
     "text": [
      "loading 33.png\n",
      "0.01\n",
      "0.82645494\n",
      "[3.         0.01       0.01       0.01       0.01       0.01\n",
      " 0.01       0.01       0.01388235 0.01388235 0.01388235 0.01\n",
      " 0.02164706 0.03329412 0.03717647 0.03717647 0.03329412 0.02552941\n",
      " 0.01776471 0.01       0.01       0.01       0.01       0.01\n",
      " 0.01       0.01       0.01       0.01       0.01       0.01\n",
      " 0.01       0.01       0.01388235 0.02164706 0.02669022 0.03717647\n",
      " 0.09152941 0.12258823 0.07988235 0.03717647 0.20023531 0.35941178\n",
      " 0.44482353 0.46811765 0.40988237 0.2507059  0.15480788 0.05658824\n",
      " 0.01388235 0.01       0.01       0.01       0.01       0.01\n",
      " 0.01       0.01       0.01       0.01       0.01       0.01\n",
      " 0.06047059 0.1924706  0.32563138 0.46972102 0.65995634 0.60011768\n",
      " 0.29341176 0.03329412 0.16917649 0.23517647 0.33611766 0.4238084\n",
      " 0.48913279 0.59395635 0.67664665 0.41536808 0.13811766 0.01388235\n",
      " 0.01       0.01       0.01       0.01       0.01       0.01\n",
      " 0.01       0.01       0.01       0.01       0.11482353 0.38658825\n",
      " 0.62729412 0.55857259 0.40760338 0.24066222 0.09541176 0.01388235\n",
      " 0.01776471 0.02164706 0.02941176 0.03329412 0.04494118 0.11642691\n",
      " 0.32723486 0.63394076 0.53183872 0.20023531 0.01       0.01\n",
      " 0.01       0.01       0.01       0.01       0.01       0.01\n",
      " 0.01       0.01       0.01776471 0.04882353 0.07600001 0.04998434\n",
      " 0.03329412 0.02164706 0.01388235 0.01       0.01       0.01\n",
      " 0.01       0.01       0.01       0.01388235 0.03329412 0.23905884\n",
      " 0.32835296 0.208      0.02164706 0.01       0.01       0.01\n",
      " 0.01       0.01       0.01       0.01       0.01       0.01\n",
      " 0.01       0.01       0.01       0.01       0.01       0.01\n",
      " 0.01       0.01       0.01       0.01       0.01       0.01\n",
      " 0.01       0.01       0.01       0.01776471 0.11870588 0.21964706\n",
      " 0.1847059  0.02164706 0.01       0.01       0.01       0.01\n",
      " 0.01       0.01       0.01       0.01       0.01       0.01\n",
      " 0.01       0.01       0.01       0.01       0.01       0.01\n",
      " 0.01       0.01       0.01       0.01       0.01       0.01\n",
      " 0.01       0.01       0.25847059 0.51858824 0.41764706 0.04105882\n",
      " 0.01       0.01       0.01       0.01       0.01       0.01\n",
      " 0.01       0.01       0.01       0.01       0.01       0.01\n",
      " 0.01       0.01       0.01       0.01       0.01       0.01\n",
      " 0.01       0.01       0.01       0.01       0.01       0.01\n",
      " 0.27011764 0.5069412  0.3827059  0.03717647 0.01       0.01\n",
      " 0.01       0.01       0.01       0.01       0.01       0.01\n",
      " 0.01       0.01       0.01       0.01       0.01       0.01\n",
      " 0.01       0.01       0.01       0.01       0.01       0.01\n",
      " 0.01       0.01       0.02552941 0.19635296 0.48364705 0.51082355\n",
      " 0.1847059  0.02552941 0.01       0.01       0.01       0.01\n",
      " 0.01       0.01       0.01       0.01       0.01       0.01\n",
      " 0.01       0.01       0.01       0.01       0.01       0.01\n",
      " 0.01       0.01388235 0.02552941 0.04882353 0.06207398 0.04882353\n",
      " 0.09152941 0.44482353 0.53023529 0.28952941 0.02552941 0.01\n",
      " 0.01       0.01       0.01       0.01       0.01       0.01\n",
      " 0.01       0.01       0.01       0.01       0.01       0.01\n",
      " 0.01       0.01       0.01       0.01388235 0.05658824 0.1264706\n",
      " 0.33383867 0.55125046 0.61336809 0.45258823 0.15364707 0.08764706\n",
      " 0.06823529 0.03329412 0.01       0.01       0.01       0.01\n",
      " 0.01       0.01       0.01       0.01       0.01       0.01\n",
      " 0.01       0.01       0.01       0.01       0.01       0.01\n",
      " 0.01       0.04105882 0.25458825 0.61564708 0.82141179 0.82645494\n",
      " 0.67664665 0.42313281 0.14588237 0.03717647 0.01388235 0.01\n",
      " 0.01       0.01       0.01       0.01       0.01       0.01\n",
      " 0.01       0.01       0.01       0.01       0.01       0.01\n",
      " 0.01       0.01       0.01       0.01       0.01       0.01776471\n",
      " 0.08764706 0.21576472 0.27788237 0.28680786 0.39939609 0.65174907\n",
      " 0.53572106 0.25230929 0.06435294 0.01       0.01       0.01\n",
      " 0.01       0.01       0.01       0.01       0.01       0.01\n",
      " 0.01       0.01       0.01       0.01       0.01       0.01\n",
      " 0.01       0.01       0.01       0.01       0.01388235 0.02164706\n",
      " 0.02164706 0.02164706 0.06047059 0.22469023 0.53688192 0.50582308\n",
      " 0.23633729 0.02941176 0.02164706 0.01       0.01       0.01\n",
      " 0.01       0.01       0.01       0.01       0.01       0.01\n",
      " 0.01       0.01       0.01       0.01       0.01       0.01\n",
      " 0.01       0.01       0.01       0.01       0.01       0.01\n",
      " 0.01       0.02280787 0.06595633 0.08925045 0.29069021 0.38042691\n",
      " 0.17854457 0.02164706 0.01       0.01       0.01       0.01\n",
      " 0.01       0.01       0.01       0.01       0.01       0.01\n",
      " 0.01       0.01       0.01       0.01       0.01       0.01\n",
      " 0.01       0.01       0.01       0.01       0.01       0.01\n",
      " 0.01       0.01       0.29501516 0.55125046 0.40760338 0.04494118\n",
      " 0.01       0.01       0.01       0.01       0.01       0.01\n",
      " 0.01       0.01       0.01       0.01       0.01       0.01\n",
      " 0.01       0.01       0.01       0.01       0.01       0.01\n",
      " 0.01       0.01       0.01       0.01       0.01       0.01\n",
      " 0.13423531 0.4386622  0.6056034  0.13195634 0.02164706 0.01\n",
      " 0.01       0.01       0.01       0.01       0.01       0.01\n",
      " 0.01       0.01       0.01       0.01       0.01       0.01\n",
      " 0.01       0.01       0.01       0.01       0.01       0.01\n",
      " 0.01       0.01       0.01       0.01       0.04494118 0.20295684\n",
      " 0.34388235 0.10705882 0.02164706 0.01       0.01       0.01\n",
      " 0.01       0.01       0.01       0.01       0.01       0.01\n",
      " 0.01       0.01       0.01       0.01       0.01       0.01\n",
      " 0.01       0.01       0.01       0.01       0.01       0.01\n",
      " 0.01       0.01       0.03833728 0.1936314  0.3416034  0.11482353\n",
      " 0.02552941 0.01       0.01       0.01       0.01       0.01\n",
      " 0.01       0.01       0.01       0.01388235 0.01388235 0.01\n",
      " 0.01       0.01       0.01       0.01       0.01       0.01\n",
      " 0.01       0.01       0.01       0.01       0.01       0.01\n",
      " 0.09657257 0.42817602 0.70105886 0.1924706  0.03329412 0.01\n",
      " 0.01       0.01       0.01       0.01       0.01       0.01\n",
      " 0.02552941 0.06435294 0.08376471 0.02552941 0.01       0.01\n",
      " 0.01       0.01       0.01       0.01       0.01       0.01\n",
      " 0.01       0.01       0.01       0.02164706 0.27400002 0.58963144\n",
      " 0.58619165 0.10317647 0.01388235 0.01       0.01       0.01\n",
      " 0.01       0.01       0.01       0.01       0.10705882 0.35941178\n",
      " 0.55352944 0.20023531 0.03717647 0.01       0.01       0.01\n",
      " 0.01       0.01       0.01       0.01       0.01       0.01776471\n",
      " 0.02552941 0.09152941 0.40211764 0.51082355 0.19635296 0.02552941\n",
      " 0.01       0.01       0.01       0.01       0.01       0.01\n",
      " 0.01       0.01       0.03329412 0.18082353 0.49141178 0.55741179\n",
      " 0.23129413 0.02164706 0.01       0.01       0.01       0.01388235\n",
      " 0.01388235 0.01388235 0.05270588 0.17305884 0.29729411 0.14200002\n",
      " 0.08376471 0.08376471 0.02164706 0.01       0.01       0.01\n",
      " 0.01       0.01       0.01       0.01       0.01       0.01\n",
      " 0.01       0.02941176 0.14200002 0.56129414 0.5418824  0.24682353\n",
      " 0.02164706 0.02164706 0.04882353 0.08764706 0.14200002 0.1847059\n",
      " 0.32835296 0.62729412 0.61564708 0.23129413 0.02164706 0.01\n",
      " 0.01       0.01       0.01       0.01       0.01       0.01\n",
      " 0.01       0.01       0.01       0.01       0.01       0.01\n",
      " 0.02552941 0.14588237 0.33611766 0.27400002 0.09929412 0.14588237\n",
      " 0.44870588 0.65835297 0.70882356 0.65835297 0.5341177  0.35164705\n",
      " 0.14200002 0.03717647 0.01       0.01       0.01       0.01\n",
      " 0.01       0.01       0.01       0.01       0.01       0.01\n",
      " 0.01       0.01       0.01       0.01       0.01       0.01776471\n",
      " 0.02552941 0.04882353 0.06823529 0.11094118 0.30117649 0.35164705\n",
      " 0.27011764 0.14976472 0.06435294 0.02941176 0.01388235 0.01\n",
      " 0.01       0.01       0.01       0.01       0.01       0.01\n",
      " 0.01       0.01       0.01       0.01       0.01       0.01\n",
      " 0.01       0.01       0.01       0.01       0.01       0.01\n",
      " 0.01388235 0.01388235 0.02552941 0.02941176 0.02164706 0.01776471\n",
      " 0.01       0.01       0.01       0.01       0.01       0.01\n",
      " 0.01       0.01       0.01       0.01       0.01       0.01\n",
      " 0.01       0.01       0.01       0.01       0.01       0.01\n",
      " 0.01       0.01       0.01       0.01       0.01       0.01\n",
      " 0.01       0.01       0.01       0.01       0.01       0.01\n",
      " 0.01       0.01       0.01       0.01       0.01       0.01\n",
      " 0.01       0.01       0.01       0.01       0.01      ]\n"
     ]
    }
   ],
   "source": [
    "for image_file in glob.glob('33.png'):\n",
    "    print(\"loading\",image_file)\n",
    "    label=int(image_file[-5:-4])\n",
    "    image_array=imageio.imread(image_file,as_gray=True)\n",
    "    img_data=255.0-image_array.reshape(784)\n",
    "    img_data=(img_data/255.0*0.99)+0.01\n",
    "    print(numpy.min(img_data))\n",
    "    print(numpy.max(img_data))\n",
    "    record=numpy.append(label,img_data)\n",
    "    print(record)\n",
    "    our_own.append(record)\n",
    "    pass"
   ]
  },
  {
   "cell_type": "code",
   "execution_count": 128,
   "id": "3c8f917a",
   "metadata": {},
   "outputs": [
    {
     "name": "stdout",
     "output_type": "stream",
     "text": [
      "[3.         0.01       0.01       0.01       0.01       0.01\n",
      " 0.01       0.01       0.01388235 0.01388235 0.01388235 0.01\n",
      " 0.02164706 0.03329412 0.03717647 0.03717647 0.03329412 0.02552941\n",
      " 0.01776471 0.01       0.01       0.01       0.01       0.01\n",
      " 0.01       0.01       0.01       0.01       0.01       0.01\n",
      " 0.01       0.01       0.01388235 0.02164706 0.02669022 0.03717647\n",
      " 0.09152941 0.12258823 0.07988235 0.03717647 0.20023531 0.35941178\n",
      " 0.44482353 0.46811765 0.40988237 0.2507059  0.15480788 0.05658824\n",
      " 0.01388235 0.01       0.01       0.01       0.01       0.01\n",
      " 0.01       0.01       0.01       0.01       0.01       0.01\n",
      " 0.06047059 0.1924706  0.32563138 0.46972102 0.65995634 0.60011768\n",
      " 0.29341176 0.03329412 0.16917649 0.23517647 0.33611766 0.4238084\n",
      " 0.48913279 0.59395635 0.67664665 0.41536808 0.13811766 0.01388235\n",
      " 0.01       0.01       0.01       0.01       0.01       0.01\n",
      " 0.01       0.01       0.01       0.01       0.11482353 0.38658825\n",
      " 0.62729412 0.55857259 0.40760338 0.24066222 0.09541176 0.01388235\n",
      " 0.01776471 0.02164706 0.02941176 0.03329412 0.04494118 0.11642691\n",
      " 0.32723486 0.63394076 0.53183872 0.20023531 0.01       0.01\n",
      " 0.01       0.01       0.01       0.01       0.01       0.01\n",
      " 0.01       0.01       0.01776471 0.04882353 0.07600001 0.04998434\n",
      " 0.03329412 0.02164706 0.01388235 0.01       0.01       0.01\n",
      " 0.01       0.01       0.01       0.01388235 0.03329412 0.23905884\n",
      " 0.32835296 0.208      0.02164706 0.01       0.01       0.01\n",
      " 0.01       0.01       0.01       0.01       0.01       0.01\n",
      " 0.01       0.01       0.01       0.01       0.01       0.01\n",
      " 0.01       0.01       0.01       0.01       0.01       0.01\n",
      " 0.01       0.01       0.01       0.01776471 0.11870588 0.21964706\n",
      " 0.1847059  0.02164706 0.01       0.01       0.01       0.01\n",
      " 0.01       0.01       0.01       0.01       0.01       0.01\n",
      " 0.01       0.01       0.01       0.01       0.01       0.01\n",
      " 0.01       0.01       0.01       0.01       0.01       0.01\n",
      " 0.01       0.01       0.25847059 0.51858824 0.41764706 0.04105882\n",
      " 0.01       0.01       0.01       0.01       0.01       0.01\n",
      " 0.01       0.01       0.01       0.01       0.01       0.01\n",
      " 0.01       0.01       0.01       0.01       0.01       0.01\n",
      " 0.01       0.01       0.01       0.01       0.01       0.01\n",
      " 0.27011764 0.5069412  0.3827059  0.03717647 0.01       0.01\n",
      " 0.01       0.01       0.01       0.01       0.01       0.01\n",
      " 0.01       0.01       0.01       0.01       0.01       0.01\n",
      " 0.01       0.01       0.01       0.01       0.01       0.01\n",
      " 0.01       0.01       0.02552941 0.19635296 0.48364705 0.51082355\n",
      " 0.1847059  0.02552941 0.01       0.01       0.01       0.01\n",
      " 0.01       0.01       0.01       0.01       0.01       0.01\n",
      " 0.01       0.01       0.01       0.01       0.01       0.01\n",
      " 0.01       0.01388235 0.02552941 0.04882353 0.06207398 0.04882353\n",
      " 0.09152941 0.44482353 0.53023529 0.28952941 0.02552941 0.01\n",
      " 0.01       0.01       0.01       0.01       0.01       0.01\n",
      " 0.01       0.01       0.01       0.01       0.01       0.01\n",
      " 0.01       0.01       0.01       0.01388235 0.05658824 0.1264706\n",
      " 0.33383867 0.55125046 0.61336809 0.45258823 0.15364707 0.08764706\n",
      " 0.06823529 0.03329412 0.01       0.01       0.01       0.01\n",
      " 0.01       0.01       0.01       0.01       0.01       0.01\n",
      " 0.01       0.01       0.01       0.01       0.01       0.01\n",
      " 0.01       0.04105882 0.25458825 0.61564708 0.82141179 0.82645494\n",
      " 0.67664665 0.42313281 0.14588237 0.03717647 0.01388235 0.01\n",
      " 0.01       0.01       0.01       0.01       0.01       0.01\n",
      " 0.01       0.01       0.01       0.01       0.01       0.01\n",
      " 0.01       0.01       0.01       0.01       0.01       0.01776471\n",
      " 0.08764706 0.21576472 0.27788237 0.28680786 0.39939609 0.65174907\n",
      " 0.53572106 0.25230929 0.06435294 0.01       0.01       0.01\n",
      " 0.01       0.01       0.01       0.01       0.01       0.01\n",
      " 0.01       0.01       0.01       0.01       0.01       0.01\n",
      " 0.01       0.01       0.01       0.01       0.01388235 0.02164706\n",
      " 0.02164706 0.02164706 0.06047059 0.22469023 0.53688192 0.50582308\n",
      " 0.23633729 0.02941176 0.02164706 0.01       0.01       0.01\n",
      " 0.01       0.01       0.01       0.01       0.01       0.01\n",
      " 0.01       0.01       0.01       0.01       0.01       0.01\n",
      " 0.01       0.01       0.01       0.01       0.01       0.01\n",
      " 0.01       0.02280787 0.06595633 0.08925045 0.29069021 0.38042691\n",
      " 0.17854457 0.02164706 0.01       0.01       0.01       0.01\n",
      " 0.01       0.01       0.01       0.01       0.01       0.01\n",
      " 0.01       0.01       0.01       0.01       0.01       0.01\n",
      " 0.01       0.01       0.01       0.01       0.01       0.01\n",
      " 0.01       0.01       0.29501516 0.55125046 0.40760338 0.04494118\n",
      " 0.01       0.01       0.01       0.01       0.01       0.01\n",
      " 0.01       0.01       0.01       0.01       0.01       0.01\n",
      " 0.01       0.01       0.01       0.01       0.01       0.01\n",
      " 0.01       0.01       0.01       0.01       0.01       0.01\n",
      " 0.13423531 0.4386622  0.6056034  0.13195634 0.02164706 0.01\n",
      " 0.01       0.01       0.01       0.01       0.01       0.01\n",
      " 0.01       0.01       0.01       0.01       0.01       0.01\n",
      " 0.01       0.01       0.01       0.01       0.01       0.01\n",
      " 0.01       0.01       0.01       0.01       0.04494118 0.20295684\n",
      " 0.34388235 0.10705882 0.02164706 0.01       0.01       0.01\n",
      " 0.01       0.01       0.01       0.01       0.01       0.01\n",
      " 0.01       0.01       0.01       0.01       0.01       0.01\n",
      " 0.01       0.01       0.01       0.01       0.01       0.01\n",
      " 0.01       0.01       0.03833728 0.1936314  0.3416034  0.11482353\n",
      " 0.02552941 0.01       0.01       0.01       0.01       0.01\n",
      " 0.01       0.01       0.01       0.01388235 0.01388235 0.01\n",
      " 0.01       0.01       0.01       0.01       0.01       0.01\n",
      " 0.01       0.01       0.01       0.01       0.01       0.01\n",
      " 0.09657257 0.42817602 0.70105886 0.1924706  0.03329412 0.01\n",
      " 0.01       0.01       0.01       0.01       0.01       0.01\n",
      " 0.02552941 0.06435294 0.08376471 0.02552941 0.01       0.01\n",
      " 0.01       0.01       0.01       0.01       0.01       0.01\n",
      " 0.01       0.01       0.01       0.02164706 0.27400002 0.58963144\n",
      " 0.58619165 0.10317647 0.01388235 0.01       0.01       0.01\n",
      " 0.01       0.01       0.01       0.01       0.10705882 0.35941178\n",
      " 0.55352944 0.20023531 0.03717647 0.01       0.01       0.01\n",
      " 0.01       0.01       0.01       0.01       0.01       0.01776471\n",
      " 0.02552941 0.09152941 0.40211764 0.51082355 0.19635296 0.02552941\n",
      " 0.01       0.01       0.01       0.01       0.01       0.01\n",
      " 0.01       0.01       0.03329412 0.18082353 0.49141178 0.55741179\n",
      " 0.23129413 0.02164706 0.01       0.01       0.01       0.01388235\n",
      " 0.01388235 0.01388235 0.05270588 0.17305884 0.29729411 0.14200002\n",
      " 0.08376471 0.08376471 0.02164706 0.01       0.01       0.01\n",
      " 0.01       0.01       0.01       0.01       0.01       0.01\n",
      " 0.01       0.02941176 0.14200002 0.56129414 0.5418824  0.24682353\n",
      " 0.02164706 0.02164706 0.04882353 0.08764706 0.14200002 0.1847059\n",
      " 0.32835296 0.62729412 0.61564708 0.23129413 0.02164706 0.01\n",
      " 0.01       0.01       0.01       0.01       0.01       0.01\n",
      " 0.01       0.01       0.01       0.01       0.01       0.01\n",
      " 0.02552941 0.14588237 0.33611766 0.27400002 0.09929412 0.14588237\n",
      " 0.44870588 0.65835297 0.70882356 0.65835297 0.5341177  0.35164705\n",
      " 0.14200002 0.03717647 0.01       0.01       0.01       0.01\n",
      " 0.01       0.01       0.01       0.01       0.01       0.01\n",
      " 0.01       0.01       0.01       0.01       0.01       0.01776471\n",
      " 0.02552941 0.04882353 0.06823529 0.11094118 0.30117649 0.35164705\n",
      " 0.27011764 0.14976472 0.06435294 0.02941176 0.01388235 0.01\n",
      " 0.01       0.01       0.01       0.01       0.01       0.01\n",
      " 0.01       0.01       0.01       0.01       0.01       0.01\n",
      " 0.01       0.01       0.01       0.01       0.01       0.01\n",
      " 0.01388235 0.01388235 0.02552941 0.02941176 0.02164706 0.01776471\n",
      " 0.01       0.01       0.01       0.01       0.01       0.01\n",
      " 0.01       0.01       0.01       0.01       0.01       0.01\n",
      " 0.01       0.01       0.01       0.01       0.01       0.01\n",
      " 0.01       0.01       0.01       0.01       0.01       0.01\n",
      " 0.01       0.01       0.01       0.01       0.01       0.01\n",
      " 0.01       0.01       0.01       0.01       0.01       0.01\n",
      " 0.01       0.01       0.01       0.01       0.01      ]\n"
     ]
    }
   ],
   "source": [
    "print(our_own[0])"
   ]
  },
  {
   "cell_type": "code",
   "execution_count": 137,
   "id": "f6168fa4",
   "metadata": {},
   "outputs": [
    {
     "name": "stdout",
     "output_type": "stream",
     "text": [
      "[[0.07508922]\n",
      " [0.15646946]\n",
      " [0.00515236]\n",
      " [0.37335665]\n",
      " [0.06943486]\n",
      " [0.13597314]\n",
      " [0.10191955]\n",
      " [0.53056441]\n",
      " [0.12050254]\n",
      " [0.01211968]]\n",
      "network says  7\n",
      "no match!\n"
     ]
    },
    {
     "data": {
      "image/png": "[encoded data removed]",
      "text/plain": [
       "<Figure size 432x288 with 1 Axes>"
      ]
     },
     "metadata": {
      "needs_background": "light"
     },
     "output_type": "display_data"
    }
   ],
   "source": [
    "# test the neural network with our own images\n",
    "\n",
    "# record to test\n",
    "item=0\n",
    "\n",
    "# plot image\n",
    "matplotlib.pyplot.imshow(our_own[item][1:].reshape(28,28), cmap='Greys', interpolation='None')\n",
    "\n",
    "# correct answer is first value\n",
    "correct_label = our_own[item][0]\n",
    "# data is remaining values\n",
    "inputs = our_own[item][1:]\n",
    "\n",
    "# query the network\n",
    "outputs = n.query(inputs)\n",
    "print (outputs)\n",
    "\n",
    "# the index of the highest value corresponds to the label\n",
    "label = numpy.argmax(outputs)\n",
    "print(\"network says \", label)\n",
    "# append correct or incorrect to list\n",
    "if (label == correct_label):\n",
    "    print (\"match!\")\n",
    "else:\n",
    "    print (\"no match!\")\n",
    "    pass"
   ]
  },
  {
   "cell_type": "code",
   "execution_count": null,
   "id": "760cf982",
   "metadata": {},
   "outputs": [],
   "source": []
  }
 ],
 "metadata": {
  "kernelspec": {
   "display_name": "Python 3 (ipykernel)",
   "language": "python",
   "name": "python3"
  },
  "language_info": {
   "codemirror_mode": {
    "name": "ipython",
    "version": 3
   },
   "file_extension": ".py",
   "mimetype": "text/x-python",
   "name": "python",
   "nbconvert_exporter": "python",
   "pygments_lexer": "ipython3",
   "version": "3.7.11"
  }
 },
 "nbformat": 4,
 "nbformat_minor": 5
}
